{
 "cells": [
  {
   "cell_type": "code",
   "execution_count": 2,
   "metadata": {},
   "outputs": [],
   "source": [
    "try:\n",
    "    from urllib.request import urlopen\n",
    "except ImportError:\n",
    "    from urllib2 import urlopen\n",
    "\n",
    "from datetime import date, timedelta, datetime\n",
    "import pymongo\n",
    "import json\n",
    "import getSchedules"
   ]
  },
  {
   "cell_type": "code",
   "execution_count": 3,
   "metadata": {},
   "outputs": [],
   "source": [
    "#Open a connection to the obsLog mongoDB database\n",
    "conn = pymongo.MongoClient('observinglogs,observinglogs2,observinglogs3',replicaSet='KEOLA')\n",
    "db = conn.obsLog"
   ]
  },
  {
   "cell_type": "code",
   "execution_count": 9,
   "metadata": {},
   "outputs": [
    {
     "data": {
      "text/plain": [
       "datetime.datetime(2018, 12, 31, 0, 0)"
      ]
     },
     "execution_count": 9,
     "metadata": {},
     "output_type": "execute_result"
    }
   ],
   "source": [
    "errors = []\n",
    "d = datetime(2018,12,31)\n",
    "d"
   ]
  },
  {
   "cell_type": "code",
   "execution_count": 17,
   "metadata": {},
   "outputs": [],
   "source": [
    "def fromWeb( inDate ):\n",
    "    \"\"\" Pulls schedules for a given date from the website and parses them into a dictionary \"\"\"\n",
    "    url = \"http://www/observing/schedule/ws/telsched.php?date=\" + inDate.strftime(\"%Y-%m-%d\") + \"&tel=\"\n",
    "\n",
    "    schedules = {}\n",
    "    for tel in [1,2]:\n",
    "        schedules[ tel ] = {}\n",
    "        print(url)\n",
    "        response = urlopen( url + str(tel) )\n",
    "        #result = response.read()\n",
    "        #print(response)\n",
    "        for line_number,line in enumerate(response):\n",
    "        #sys.exit(0)\n",
    "        #for s in result.split(\"\\n\"):\n",
    "        #for s in result:\n",
    "            s=line.decode('utf-8')\n",
    "            #print (s)\n",
    "            if \"=\" in s:\n",
    "                kv = s.split(\"=\")\n",
    "                schedules[ tel ][ kv[0] ] = kv[1]\n",
    "    return schedules\n",
    "def parseTwilight( sched ):\n",
    "    \"\"\" Parses a schedule's twilight entry into a dictionary \"\"\"\n",
    "    # Parse schedule's Twilight dictionary for storage in logs\n",
    "    # ( This ugly looking one liner essentially just parses\n",
    "    #   what is the serialization of a dictionary into a string\n",
    "    #   back into the actual dictionary it represents )\n",
    "    return dict( [[ y.strip(\"'\") for y in x.split(\":\", 1)] for x in sched[\"Twilight\"].strip(\"{}\").split(\",\") ]  )\n",
    "\n",
    "def findInstrEntry( dbInstruments, instrStr ):\n",
    "    \"\"\" Find the matching instrument db entry for a given instrument string \"\"\"\n",
    "    for instrument in dbInstruments:\n",
    "        if instrument[\"name\"] in instrStr:\n",
    "            return instrument\n",
    "    return instrStr\n",
    "\n",
    "def genLogs( d, db, errors ):\n",
    "    \"\"\" Parses out database log entries from the schedule for a given date \"\"\"\n",
    "\n",
    "    # An empty list to append output logs\n",
    "    outLogs = []\n",
    "\n",
    "    # Get a list of all the entries in the \"instruments\" collection\n",
    "    dbInstruments = [x for x in db.instruments.find()]\n",
    "\n",
    "    # List of months to be used for really lame lower casing method\n",
    "    mons = [\"Jan\", \"Feb\", \"Mar\", \"Apr\", \"May\", \"Jun\", \"Jul\", \"Aug\", \"Sep\", \"Oct\", \"Nov\", \"Dec\"]\n",
    "\n",
    "    # Pull logs for this date\n",
    "    for sched in fromWeb( d ).values():\n",
    "        #print(\"******************** SCHEDULE ENTRY ******************\")\n",
    "        #print(\"Sched: \"+str(sched))\n",
    "\n",
    "        # Implentation of Dr. Rizzi's finite state machine algorithm for\n",
    "        # parsing schedule entries.  The result we want is an array\n",
    "        # which groups together any instrument account entries that\n",
    "        # are sperated with a +, each grouping being an array of\n",
    "        # dictionaries that have the form\n",
    "        # { \"instrEntry\": ( database entry for the matching instrument,\n",
    "        #                   or original instrument string if entry not found )\n",
    "        #   \"accountID\" : ( The string of the parsed account ID or \"\" if none found )\n",
    "        # }\n",
    "\n",
    "        instrAcc = sched[\"InstrAcc\"]\n",
    "        obsList = [[]]\n",
    "        inParens = False\n",
    "        foundParens = False\n",
    "        curInstrument = False\n",
    "        splitPos = 0\n",
    "        for i, ch in enumerate( instrAcc ):\n",
    "            if ch == \"(\":\n",
    "                foundParens = True\n",
    "                inParens = True\n",
    "                curInstrument = findInstrEntry( dbInstruments, instrAcc[ splitPos : i ] )\n",
    "                splitPos = i+1\n",
    "            elif ch == \")\":\n",
    "                inParens = False\n",
    "                obsList[-1].append( { \"instrEntry\": curInstrument, \"accountID\":  instrAcc[ splitPos : i ] } )\n",
    "            elif ch == \"/\" and inParens:\n",
    "                obsList[-1].append( { \"instrEntry\": curInstrument, \"accountID\":  instrAcc[ splitPos : i ] } )\n",
    "                splitPos = i+1\n",
    "                obsList.append([])\n",
    "            elif ch == \"/\" or ch == \"+\" or i == ( len(instrAcc)-1 ):\n",
    "                if i == ( len(instrAcc)-1 ):\n",
    "                    i+=1\n",
    "                if not foundParens:\n",
    "                    curInstrument = findInstrEntry( dbInstruments, instrAcc[ splitPos : i ] )\n",
    "                    obsList[-1].append( { \"instrEntry\": curInstrument, \"accountID\": \"\" } )\n",
    "                foundParens = False\n",
    "                splitPos = i+1\n",
    "                curInstrument = False\n",
    "                if ch == \"/\":\n",
    "                    obsList.append([])\n",
    "\n",
    "        # Now that we have them split into separate entries and grouped by observers\n",
    "        # we go through and try to generate the dataDirs list for each log\n",
    "\n",
    "        # We will need to keep track of an account+id combos that appear\n",
    "        # more than once so that we can append \"_B\", \"_C\" etc to the\n",
    "        # date portion of their directory names\n",
    "        splitTally = {}\n",
    "\n",
    "        for obsGroup in obsList:\n",
    "            #print(\"******************** OBSGROUP ENTRY ******************\")\n",
    "            #print(str(obsList))\n",
    "            for obs in obsGroup:\n",
    "                #print (type(obs['instrEntry']))\n",
    "                if type(obs[\"instrEntry\"]) is not dict:\n",
    "                    errors.append(\"Omit: No instrument found matching \" + obs[\"instrEntry\"] )\n",
    "                    obs[\"instrEntry\"] = False\n",
    "                elif obs[\"accountID\"] == \"\":\n",
    "                    try:\n",
    "                        errors.append(\"Omit: No account ID found for \"+ obs[\"instrEntry\"][\"name\"]+\" log.\" )\n",
    "                    except:\n",
    "                        errors.append(\"Omit: No account ID found for \"+ str(obs[\"instrEntry\"])+\" log.\" )\n",
    "                    obs[\"instrEntry\"] = False\n",
    "                else:\n",
    "                    instr = obs[\"instrEntry\"]\n",
    "                    if (instr[\"dirName\"]+obs[\"accountID\"]) not in splitTally:\n",
    "                        # The first of the duplicate instrument+id combos\n",
    "                        # doesn't need anything appended after the date\n",
    "                        obs[\"dateSuffix\"] = \"\"\n",
    "                        # Create an initial tally entry that will be incremented\n",
    "                        # every new duplication of this instrument+id combo\n",
    "                        splitTally[ instr[\"dirName\"]+obs[\"accountID\"] ] = \"_A\"\n",
    "                    else:\n",
    "                        # Pull the relevant tally\n",
    "                        tal = splitTally[ instr[\"dirName\"]+obs[\"accountID\"] ]\n",
    "                        # Increment it \"_A\" -> \"_B\", etc.\n",
    "                        tal = tal[:-1] + chr( ord( tal[-1] ) + 1 )\n",
    "                        splitTally [instr[\"dirName\"]+obs[\"accountID\"]] = tal\n",
    "\n",
    "                        # Store it for later appending\n",
    "                        obs[\"dateSuffix\"] = tal\n",
    "\n",
    "                    # Increment day by one, and store it in the observation\n",
    "                    obs[\"date\"] = (d+timedelta(days=1))\n",
    "\n",
    "                    # Create dataDirs specific to this log entry by supplying\n",
    "                    # this obs entry to the format string stored for each protoDir\n",
    "                    obs[\"dataDirs\"] = []\n",
    "                    for pd in instr[\"protoDirs\"]:\n",
    "                        dir =  pd.format( **obs )\n",
    "\n",
    "                        # Really lame way of lowercasing the months because I can't\n",
    "                        # figure out any way to simply lower case within format spec\n",
    "                        for m in mons:\n",
    "                            if m in dir:\n",
    "                                dir = dir.replace(m, m.lower() )\n",
    "\n",
    "                        obs[\"dataDirs\"].append( dir )\n",
    "\n",
    "\n",
    "        # Now attempt to actually create the logs, appending details from the schedule if possible\n",
    "\n",
    "        projSplit = sched[\"ProjCode\"].split(\"/\")\n",
    "        obsSplit = sched[\"Observers\"].split(\"/\")\n",
    "        piSplit = sched[\"Principal\"].split(\"/\")\n",
    "\n",
    "        for i in range(len( obsList )) :\n",
    "            for obs in [x for x in obsList[i] if x[\"instrEntry\"]]:\n",
    "                protoLog = {\"instrument\": obs[\"instrEntry\"][\"name\"],\n",
    "                    \"project\": \"\",\n",
    "                    \"observers\": \"\",\n",
    "                    \"pi\": \"\",\n",
    "                    \"sa\": sched[\"SA\"].strip(),\n",
    "                    \"oa\": sched[\"OA\"].strip(),\n",
    "                    \"utcDate\": datetime.utcnow(),\n",
    "                    \"activeDirs\": [],\n",
    "                    \"dataDirs\": obs[\"dataDirs\"] }\n",
    "                # observers\n",
    "                if i < len( obsSplit ) and obsSplit[i].strip()!=\"\":\n",
    "                    protoLog[\"observers\"] = obsSplit[ i ].strip()\n",
    "                else:\n",
    "                    errors.append(\"Warning: Failed to find observers for \"+obs[\"instrEntry\"][\"name\"]+\" log\" )\n",
    "                # projects\n",
    "                if i < len( projSplit ) and projSplit[i].strip()!=\"\":\n",
    "                    protoLog[\"project\"] = projSplit[ i ].strip()\n",
    "                else:\n",
    "                    errors.append(\"Warning: Failed to find project code for \"+obs[\"instrEntry\"][\"name\"]+\" log\")\n",
    "                # PIs\n",
    "                if i < len( piSplit ) and piSplit[i].strip()!=\"\":\n",
    "                    protoLog[\"pi\"] = piSplit[ i ].strip()\n",
    "                else:\n",
    "                    errors.append(\"Warning: Failed to find PI information for \"+obs[\"instrEntry\"][\"name\"]+\" log\")\n",
    "\n",
    "                outLogs.append( protoLog )\n",
    "        \n",
    "    # Return the log entries generated\n",
    "    return outLogs"
   ]
  },
  {
   "cell_type": "code",
   "execution_count": 3,
   "metadata": {},
   "outputs": [],
   "source": [
    "def getSchedule( inDate, telescope ):\n",
    "    \"\"\" Pulls schedules for a given date from the website and parses them into a dictionary \"\"\"\n",
    "    url = \"https://www.keck.hawaii.edu/software/db_api/telSchedule.php?cmd=getSchedule&date=\" + inDate.strftime(\"%Y-%m-%d\")\n",
    "\n",
    "    url = url + \"&telnr=%d\" % telescope\n",
    "    response = urlopen( url )\n",
    "    print(url)\n",
    "    result = response.read().decode('utf-8')\n",
    "    result = json.loads(result)\n",
    "    return result\n",
    "\n",
    "def getNightStaff( inDate ):\n",
    "    \"\"\" Pulls schedules for a given date from the website and parses them into a dictionary \"\"\"\n",
    "    url = \"https://www.keck.hawaii.edu/software/db_api/telSchedule.php?cmd=getNightStaff&date=\" + inDate.strftime(\"%Y-%m-%d\")\n",
    "\n",
    "    schedules = []\n",
    "    \n",
    "    response = urlopen( url )\n",
    "    result = response.read().decode('utf-8')\n",
    "    \n",
    "    return json.loads(result)"
   ]
  },
  {
   "cell_type": "code",
   "execution_count": 4,
   "metadata": {},
   "outputs": [],
   "source": []
  },
  {
   "cell_type": "code",
   "execution_count": 20,
   "metadata": {},
   "outputs": [
    {
     "name": "stdout",
     "output_type": "stream",
     "text": [
      "http://www/observing/schedule/ws/telsched.php?date=2018-12-21&tel=\n",
      "http://www/observing/schedule/ws/telsched.php?date=2018-12-21&tel=\n"
     ]
    }
   ],
   "source": [
    "oldlogs = genLogs(d, db, errors)"
   ]
  },
  {
   "cell_type": "code",
   "execution_count": 11,
   "metadata": {},
   "outputs": [
    {
     "name": "stdout",
     "output_type": "stream",
     "text": [
      "https://www.keck.hawaii.edu/software/db_api/telSchedule.php?cmd=getSchedule&date=2018-12-31&telnr=1\n",
      "Looking for database entry for instrument: <LRIS-ADC>\n",
      "Looking for database entry for instrument: <LRIS-ADC>\n",
      "https://www.keck.hawaii.edu/software/db_api/telSchedule.php?cmd=getSchedule&date=2018-12-31&telnr=2\n",
      "Looking for database entry for instrument: <KCWI>\n",
      "Looking for database entry for instrument: <KCWI>\n"
     ]
    },
    {
     "data": {
      "text/plain": [
       "[{'project': 'N044',\n",
       "  'observers': 'Masters,Cohen,Hernitschek,Davidzon',\n",
       "  'pi': 'Masters',\n",
       "  'oa': 'Joel Aycock',\n",
       "  'utcDate': datetime.datetime(2019, 1, 1, 23, 4, 43, 23504),\n",
       "  'instrument': 'LRIS',\n",
       "  'dataDirs': ['/s/sdata243/lris9/2019jan01'],\n",
       "  'activeDirs': []},\n",
       " {'project': 'N188',\n",
       "  'observers': 'Prichard,Cooke,Mestric,Webb',\n",
       "  'pi': 'Rafelski',\n",
       "  'oa': 'Joel Aycock',\n",
       "  'utcDate': datetime.datetime(2019, 1, 1, 23, 4, 43, 24445),\n",
       "  'instrument': 'LRIS',\n",
       "  'dataDirs': ['/s/sdata243/lris9/2019jan01_B'],\n",
       "  'activeDirs': []},\n",
       " {'project': 'C308',\n",
       "  'observers': 'Hamden',\n",
       "  'pi': 'Hamden',\n",
       "  'oa': 'Terry Stickel',\n",
       "  'sa': 'Luca Rizzi',\n",
       "  'utcDate': datetime.datetime(2019, 1, 1, 23, 4, 43, 66498),\n",
       "  'instrument': 'KCWI',\n",
       "  'dataDirs': ['/s/sdata1400/kcwi7/2019jan01'],\n",
       "  'activeDirs': []},\n",
       " {'project': 'N206',\n",
       "  'observers': 'Rupke',\n",
       "  'pi': 'Rupke',\n",
       "  'oa': 'Terry Stickel',\n",
       "  'sa': 'Luca Rizzi',\n",
       "  'utcDate': datetime.datetime(2019, 1, 1, 23, 4, 43, 67509),\n",
       "  'instrument': 'KCWI',\n",
       "  'dataDirs': ['/s/sdata1400/kcwi7/2019jan01_B'],\n",
       "  'activeDirs': []}]"
      ]
     },
     "execution_count": 11,
     "metadata": {},
     "output_type": "execute_result"
    }
   ],
   "source": [
    "newlogs = getSchedules.genLogs(d, db, errors)\n",
    "newlogs"
   ]
  },
  {
   "cell_type": "code",
   "execution_count": 13,
   "metadata": {},
   "outputs": [
    {
     "data": {
      "text/plain": [
       "[{'Date': '2018-12-31',\n",
       "  'TelNr': '0',\n",
       "  'Alias': 'echock',\n",
       "  'Type': 'swoc',\n",
       "  'LastName': 'Chock',\n",
       "  'FirstName': 'Liz'},\n",
       " {'Date': '2018-12-31',\n",
       "  'TelNr': '1',\n",
       "  'Alias': 'jaycock',\n",
       "  'Type': 'oa',\n",
       "  'LastName': 'Aycock',\n",
       "  'FirstName': 'Joel'},\n",
       " {'Date': '2018-12-31',\n",
       "  'TelNr': '1',\n",
       "  'Alias': 'arettura',\n",
       "  'Type': 'saoc',\n",
       "  'LastName': 'Rettura',\n",
       "  'FirstName': 'Alessandro'},\n",
       " {'Date': '2018-12-31',\n",
       "  'TelNr': '2',\n",
       "  'Alias': 'julierk',\n",
       "  'Type': 'oa',\n",
       "  'LastName': 'Renaud-Kim',\n",
       "  'FirstName': 'Julie'},\n",
       " {'Date': '2018-12-31',\n",
       "  'TelNr': '2',\n",
       "  'Alias': 'tstickel',\n",
       "  'Type': 'oar',\n",
       "  'LastName': 'Stickel',\n",
       "  'FirstName': 'Terry'},\n",
       " {'Date': '2018-12-31',\n",
       "  'TelNr': '2',\n",
       "  'Alias': 'lrizzi',\n",
       "  'Type': 'sa',\n",
       "  'LastName': 'Rizzi',\n",
       "  'FirstName': 'Luca'}]"
      ]
     },
     "execution_count": 13,
     "metadata": {},
     "output_type": "execute_result"
    }
   ],
   "source": [
    "night_staff = getSchedules.getNightStaff(d)\n",
    "night_staff"
   ]
  },
  {
   "cell_type": "code",
   "execution_count": 7,
   "metadata": {},
   "outputs": [
    {
     "data": {
      "text/plain": [
       "[{'project': 'N044',\n",
       "  'observers': 'Masters,Cohen,Hernitschek,Stanford',\n",
       "  'pi': 'Masters',\n",
       "  'oa': 'Joel Aycock',\n",
       "  'utcDate': datetime.datetime(2019, 1, 1, 23, 3, 16, 642970),\n",
       "  'instrument': 'LRIS',\n",
       "  'dataDirs': ['/s/sdata243/lris9/2019jan02'],\n",
       "  'activeDirs': []},\n",
       " {'project': 'U090',\n",
       "  'observers': 'Coil,Burchett,Vaught,Rubin',\n",
       "  'pi': 'Fuller',\n",
       "  'oa': 'Terry Stickel',\n",
       "  'sa': 'Luca Rizzi',\n",
       "  'utcDate': datetime.datetime(2019, 1, 1, 23, 3, 16, 716763),\n",
       "  'instrument': 'KCWI',\n",
       "  'dataDirs': ['/s/sdata1400/kcwi8/2019jan02'],\n",
       "  'activeDirs': []}]"
      ]
     },
     "execution_count": 7,
     "metadata": {},
     "output_type": "execute_result"
    }
   ],
   "source": [
    "newlogs"
   ]
  },
  {
   "cell_type": "code",
   "execution_count": 9,
   "metadata": {},
   "outputs": [
    {
     "data": {
      "text/plain": [
       "'Fan'"
      ]
     },
     "execution_count": 9,
     "metadata": {},
     "output_type": "execute_result"
    }
   ],
   "source": [
    "newlogs[1]['observers']"
   ]
  },
  {
   "cell_type": "code",
   "execution_count": 12,
   "metadata": {},
   "outputs": [
    {
     "data": {
      "text/plain": [
       "{'Date': '2018-12-23\\n',\n",
       " 'TelNr': '1\\n',\n",
       " 'Observers': 'L. Weiss; (IfA) / L. Weiss; (IfA) / \\n',\n",
       " 'Location': 'IfA/HQ\\n',\n",
       " 'InstrAcc': 'HIRESr(1/1)/PCS\\n',\n",
       " 'Instrument': 'HIRESr/HIRESr/PCS\\n',\n",
       " 'Institution': 'NASA/KECK\\n',\n",
       " 'Principal': 'Crossfield/Crossfield/Engineering\\n',\n",
       " 'ProjCode': 'N209/N015/E005\\n',\n",
       " 'Comment': 'split ',\n",
       " 'Laser': '\\n',\n",
       " 'SA': 'Josh Walawender\\n',\n",
       " 'OA': 'John\\n',\n",
       " 'NA': 'Sniffen\\n',\n",
       " 'SWOC': 'Allan Honey\\n',\n",
       " 'Dark': '13\\n',\n",
       " 'DOW': 'Sunday\\n',\n",
       " 'EE': 'Chan\\n',\n",
       " 'Twilight': \"{udate:'2018-12-24',dusk_12deg:'04:41:00',dusk_18deg:'05:08:00',dawn_18deg:'15:35:00',dawn_12deg:'16:02:00',dark:'13',sunset:'04:00:00',sunrise:'16:43:00',moonRADEC:'0856 18'}\\n\"}"
      ]
     },
     "execution_count": 12,
     "metadata": {},
     "output_type": "execute_result"
    }
   ],
   "source": [
    "schedule"
   ]
  },
  {
   "cell_type": "code",
   "execution_count": 13,
   "metadata": {},
   "outputs": [
    {
     "data": {
      "text/plain": [
       "{'udate': '2018-12-24',\n",
       " 'dusk_12deg': '04:41:00',\n",
       " 'dusk_18deg': '05:08:00',\n",
       " 'dawn_18deg': '15:35:00',\n",
       " 'dawn_12deg': '16:02:00',\n",
       " 'dark': '13',\n",
       " 'sunset': '04:00:00',\n",
       " 'sunrise': '16:43:00',\n",
       " 'moonRADEC': \"0856 18'}\\n\"}"
      ]
     },
     "execution_count": 13,
     "metadata": {},
     "output_type": "execute_result"
    }
   ],
   "source": [
    "parseTwilight(schedule)"
   ]
  },
  {
   "cell_type": "code",
   "execution_count": 14,
   "metadata": {},
   "outputs": [],
   "source": [
    "def getTwilight(inDate):\n",
    "    \"\"\" Pulls twilight info for a given date from the website and parses them into a dictionary \"\"\"\n",
    "    url = \"https://www.keck.hawaii.edu/software/db_api/metrics_api.php?date=\" + inDate.strftime(\"%Y-%m-%d\")\n",
    "\n",
    "    response = urlopen( url )\n",
    "    print(url)\n",
    "    result = response.read().decode('utf-8')\n",
    "    result = json.loads(result)\n",
    "    return result\n"
   ]
  },
  {
   "cell_type": "code",
   "execution_count": 15,
   "metadata": {},
   "outputs": [
    {
     "name": "stdout",
     "output_type": "stream",
     "text": [
      "https://www.keck.hawaii.edu/software/db_api/metrics_api.php?date=2018-12-23\n"
     ]
    },
    {
     "data": {
      "text/plain": [
       "{'udate': '2018-12-23',\n",
       " 'dusk_12deg': '04:40:00',\n",
       " 'dusk_18deg': '05:07:00',\n",
       " 'dawn_18deg': '15:35:00',\n",
       " 'dawn_12deg': '16:02:00',\n",
       " 'dark': '3',\n",
       " 'sunset': '04:00:00',\n",
       " 'sunrise': '16:42:00',\n",
       " 'moonRADEC': '0752 20'}"
      ]
     },
     "execution_count": 15,
     "metadata": {},
     "output_type": "execute_result"
    }
   ],
   "source": [
    "getTwilight(d)"
   ]
  },
  {
   "cell_type": "code",
   "execution_count": 10,
   "metadata": {},
   "outputs": [],
   "source": [
    "employee = getNightStaff(d)"
   ]
  },
  {
   "cell_type": "code",
   "execution_count": 11,
   "metadata": {},
   "outputs": [
    {
     "data": {
      "text/plain": [
       "[{'Date': '2018-12-27',\n",
       "  'TelNr': '0',\n",
       "  'Alias': 'jlapinta',\n",
       "  'Type': 'nah2',\n",
       "  'LastName': 'La Pinta',\n",
       "  'FirstName': 'Joshua'},\n",
       " {'Date': '2018-12-27',\n",
       "  'TelNr': '0',\n",
       "  'Alias': 'tconnors',\n",
       "  'Type': 'nah2',\n",
       "  'LastName': 'Connors',\n",
       "  'FirstName': 'Tony'},\n",
       " {'Date': '2018-12-27',\n",
       "  'TelNr': '0',\n",
       "  'Alias': 'ahoney',\n",
       "  'Type': 'swoc',\n",
       "  'LastName': 'Honey',\n",
       "  'FirstName': 'Allan'},\n",
       " {'Date': '2018-12-27',\n",
       "  'TelNr': '1',\n",
       "  'Alias': 'ahatakeyama',\n",
       "  'Type': 'oa',\n",
       "  'LastName': 'Hatakeyama',\n",
       "  'FirstName': 'Alan'},\n",
       " {'Date': '2018-12-27',\n",
       "  'TelNr': '1',\n",
       "  'Alias': 'arostopchina',\n",
       "  'Type': 'oao',\n",
       "  'LastName': 'Rostopchina',\n",
       "  'FirstName': 'Arina'},\n",
       " {'Date': '2018-12-27',\n",
       "  'TelNr': '1',\n",
       "  'Alias': 'syeh',\n",
       "  'Type': 'sa',\n",
       "  'LastName': 'Yeh',\n",
       "  'FirstName': 'Sherry'},\n",
       " {'Date': '2018-12-27',\n",
       "  'TelNr': '2',\n",
       "  'Alias': 'tstickel',\n",
       "  'Type': 'oa',\n",
       "  'LastName': 'Stickel',\n",
       "  'FirstName': 'Terry'},\n",
       " {'Date': '2018-12-27',\n",
       "  'TelNr': '2',\n",
       "  'Alias': 'pgomez',\n",
       "  'Type': 'sa',\n",
       "  'LastName': 'Gomez',\n",
       "  'FirstName': 'Percy'}]"
      ]
     },
     "execution_count": 11,
     "metadata": {},
     "output_type": "execute_result"
    }
   ],
   "source": [
    "employee"
   ]
  },
  {
   "cell_type": "code",
   "execution_count": 30,
   "metadata": {},
   "outputs": [
    {
     "name": "stdout",
     "output_type": "stream",
     "text": [
      "{'Date': '2018-12-21', 'TelNr': '2', 'Alias': 'cwilburn', 'Type': 'oar', 'LastName': 'Wilburn', 'FirstName': 'Cynthia'}\n"
     ]
    }
   ],
   "source": [
    "for staff in filter(lambda nightstaff: (('oa' in nightstaff['Type']) and (nightstaff['TelNr'] == \"2\")),employee):\n",
    "    print(staff)"
   ]
  },
  {
   "cell_type": "code",
   "execution_count": null,
   "metadata": {},
   "outputs": [],
   "source": []
  }
 ],
 "metadata": {
  "kernelspec": {
   "display_name": "Python 3",
   "language": "python",
   "name": "python3"
  },
  "language_info": {
   "codemirror_mode": {
    "name": "ipython",
    "version": 3
   },
   "file_extension": ".py",
   "mimetype": "text/x-python",
   "name": "python",
   "nbconvert_exporter": "python",
   "pygments_lexer": "ipython3",
   "version": "3.6.7"
  }
 },
 "nbformat": 4,
 "nbformat_minor": 2
}
